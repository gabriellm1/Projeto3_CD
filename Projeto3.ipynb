{
 "cells": [
  {
   "cell_type": "code",
   "execution_count": 1,
   "metadata": {
    "collapsed": true
   },
   "outputs": [],
   "source": [
    "########IMPORTANTE########\n",
    "#O ARQUIVO DE DADOS POSSUI 144Mbytes, PORTANTO NÃO PODE SER ENVIADO PELO GITHUB. O LINK DELE ESTÁ DISPONIBILIZADO ABAIXO:\n",
    "#https://www.kaggle.com/dalpozz/creditcardfraud"
   ]
  },
  {
   "cell_type": "code",
   "execution_count": 2,
   "metadata": {
    "collapsed": true
   },
   "outputs": [],
   "source": [
    "%matplotlib inline\n",
    "import pandas as pd\n",
    "import math\n",
    "import matplotlib.pyplot as plt\n",
    "import numpy as np\n",
    "import os\n",
    "from numpy import zeros_like\n",
    "from sklearn.model_selection import train_test_split\n",
    "from sklearn.naive_bayes import GaussianNB\n",
    "from sklearn.linear_model import LogisticRegression\n",
    "from sklearn.metrics import confusion_matrix,auc,roc_auc_score\n",
    "from sklearn.metrics import recall_score, precision_score, accuracy_score, f1_score"
   ]
  },
  {
   "cell_type": "code",
   "execution_count": 3,
   "metadata": {
    "scrolled": true
   },
   "outputs": [],
   "source": [
    "df = pd.read_csv('creditcard.csv',sep=\",\")"
   ]
  },
  {
   "cell_type": "code",
   "execution_count": 4,
   "metadata": {},
   "outputs": [
    {
     "data": {
      "text/plain": [
       "284807"
      ]
     },
     "execution_count": 4,
     "metadata": {},
     "output_type": "execute_result"
    }
   ],
   "source": [
    "len(df)"
   ]
  },
  {
   "cell_type": "code",
   "execution_count": 5,
   "metadata": {
    "scrolled": true
   },
   "outputs": [
    {
     "name": "stdout",
     "output_type": "stream",
     "text": [
      "Tamanho da base treinamento:  199364\n",
      "Fraudes na base treinamento:  344\n",
      "Tamanho da base teste:  85443\n",
      "Fraudes na base teste:  148\n"
     ]
    }
   ],
   "source": [
    "# separando dataset em base de treinamento e em base de teste\n",
    "\n",
    "\n",
    "clas = df['Class'].values #fraude ou não\n",
    "feat = df.drop(['Class'],axis=1).values #features\n",
    "feat_train, feat_test, clas_train, clas_test = train_test_split(feat, clas, test_size=0.3, stratify=clas)\n",
    "\n",
    "print(\"Tamanho da base treinamento: \", len(clas_train))\n",
    "print(\"Fraudes na base treinamento: \", sum(clas_train))\n",
    "print(\"Tamanho da base teste: \", len(clas_test))\n",
    "print(\"Fraudes na base teste: \", sum(clas_test))"
   ]
  },
  {
   "cell_type": "code",
   "execution_count": 6,
   "metadata": {},
   "outputs": [],
   "source": [
    "# classificando base teste\n",
    "clf = GaussianNB()\n",
    "clf.fit(feat_train,clas_train)\n",
    "\n",
    "prob_fraude = clf.predict_proba(feat_test)\n"
   ]
  },
  {
   "cell_type": "code",
   "execution_count": 7,
   "metadata": {},
   "outputs": [],
   "source": [
    "# Tomada de decisão\n",
    "\n",
    "classificador1 = pd.DataFrame(clas_test)\n",
    "\n",
    "\n",
    "for index, row in classificador1.iterrows():\n",
    "    i = classificador1.index.get_loc(index)\n",
    "    if prob_fraude[i][0]>prob_fraude[0][1]:\n",
    "        classificador1.loc[index, 'Classificação'] = '0'\n",
    "\n",
    "\n",
    "    if prob_fraude[i][0]<prob_fraude[0][1]:\n",
    "        classificador1.loc[index, 'Classificação'] = '1'"
   ]
  },
  {
   "cell_type": "code",
   "execution_count": 8,
   "metadata": {
    "scrolled": true
   },
   "outputs": [
    {
     "data": {
      "text/html": [
       "<div>\n",
       "<table border=\"1\" class=\"dataframe\">\n",
       "  <thead>\n",
       "    <tr style=\"text-align: right;\">\n",
       "      <th>Classificação</th>\n",
       "      <th>0</th>\n",
       "      <th>1</th>\n",
       "    </tr>\n",
       "    <tr>\n",
       "      <th>0</th>\n",
       "      <th></th>\n",
       "      <th></th>\n",
       "    </tr>\n",
       "  </thead>\n",
       "  <tbody>\n",
       "    <tr>\n",
       "      <th>0</th>\n",
       "      <td>85105</td>\n",
       "      <td>190</td>\n",
       "    </tr>\n",
       "    <tr>\n",
       "      <th>1</th>\n",
       "      <td>84</td>\n",
       "      <td>64</td>\n",
       "    </tr>\n",
       "  </tbody>\n",
       "</table>\n",
       "</div>"
      ],
      "text/plain": [
       "Classificação      0    1\n",
       "0                        \n",
       "0              85105  190\n",
       "1                 84   64"
      ]
     },
     "execution_count": 8,
     "metadata": {},
     "output_type": "execute_result"
    }
   ],
   "source": [
    "Comparativo = pd.crosstab(classificador1[0],classificador1['Classificação'])\n",
    "Comparativo"
   ]
  }
 ],
 "metadata": {
  "kernelspec": {
   "display_name": "Python 3",
   "language": "python",
   "name": "python3"
  },
  "language_info": {
   "codemirror_mode": {
    "name": "ipython",
    "version": 3
   },
   "file_extension": ".py",
   "mimetype": "text/x-python",
   "name": "python",
   "nbconvert_exporter": "python",
   "pygments_lexer": "ipython3",
   "version": "3.6.0"
  }
 },
 "nbformat": 4,
 "nbformat_minor": 2
}
